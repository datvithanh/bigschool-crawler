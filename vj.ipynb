{
 "cells": [
  {
   "cell_type": "code",
   "execution_count": 21,
   "metadata": {},
   "outputs": [
    {
     "name": "stdout",
     "output_type": "stream",
     "text": [
      "https://exam.bigschool.vn/exam.html?cmd=free&class=12&subject=1&o=0&p=1\n",
      "https://exam.bigschool.vn/exam.html?cmd=free&class=12&subject=1&o=0&p=2\n"
     ]
    }
   ],
   "source": [
    "import requests\n",
    "from parsel import Selector\n",
    "from tqdm import tqdm\n",
    "url = 'https://exam.bigschool.vn/exam.html?cmd=free&class=12&subject=1&o=0&p='\n",
    "# all_links = []\n",
    "with open('apartments.txt', 'w+') as f:\n",
    "    for i in range(1, 3):\n",
    "        u = url + str(i)\n",
    "        print(u)\n",
    "        response = requests.get(url + str(i))\n",
    "        sel = Selector(response.text)\n",
    "        links = sel.xpath(\n",
    "            \"//a[contains(@class,'exam-name')]/@href\").extract()\n",
    "        all_links = all_links + links"
   ]
  },
  {
   "cell_type": "code",
   "execution_count": 22,
   "metadata": {},
   "outputs": [
    {
     "data": {
      "text/plain": [
       "37"
      ]
     },
     "execution_count": 22,
     "metadata": {},
     "output_type": "execute_result"
    }
   ],
   "source": [
    "len(all_links)"
   ]
  },
  {
   "cell_type": "code",
   "execution_count": 23,
   "metadata": {},
   "outputs": [
    {
     "data": {
      "text/plain": [
       "['https://exam.bigschool.vn/exam.html?cmd=detail&id=94714',\n",
       " 'https://exam.bigschool.vn/exam.html?cmd=detail&id=94698',\n",
       " 'https://exam.bigschool.vn/exam.html?cmd=detail&id=94728',\n",
       " 'https://exam.bigschool.vn/exam.html?cmd=detail&id=94735',\n",
       " 'https://exam.bigschool.vn/exam.html?cmd=detail&id=94713',\n",
       " 'https://exam.bigschool.vn/exam.html?cmd=detail&id=94723',\n",
       " 'https://exam.bigschool.vn/exam.html?cmd=detail&id=94724',\n",
       " 'https://exam.bigschool.vn/exam.html?cmd=detail&id=94725',\n",
       " 'https://exam.bigschool.vn/exam.html?cmd=detail&id=94733',\n",
       " 'https://exam.bigschool.vn/exam.html?cmd=detail&id=94720',\n",
       " 'https://exam.bigschool.vn/exam.html?cmd=detail&id=94721',\n",
       " 'https://exam.bigschool.vn/exam.html?cmd=detail&id=94722',\n",
       " 'https://exam.bigschool.vn/exam.html?cmd=detail&id=94726',\n",
       " 'https://exam.bigschool.vn/exam.html?cmd=detail&id=94727',\n",
       " 'https://exam.bigschool.vn/exam.html?cmd=detail&id=94730',\n",
       " 'https://exam.bigschool.vn/exam.html?cmd=detail&id=94731',\n",
       " 'https://exam.bigschool.vn/exam.html?cmd=detail&id=94734',\n",
       " 'https://exam.bigschool.vn/exam.html?cmd=detail&id=94711',\n",
       " 'https://exam.bigschool.vn/exam.html?cmd=detail&id=94712',\n",
       " 'https://exam.bigschool.vn/exam.html?cmd=detail&id=94715',\n",
       " 'https://exam.bigschool.vn/exam.html?cmd=detail&id=94716',\n",
       " 'https://exam.bigschool.vn/exam.html?cmd=detail&id=94717',\n",
       " 'https://exam.bigschool.vn/exam.html?cmd=detail&id=94718',\n",
       " 'https://exam.bigschool.vn/exam.html?cmd=detail&id=94719',\n",
       " 'https://exam.bigschool.vn/exam.html?cmd=detail&id=467',\n",
       " 'https://exam.bigschool.vn/exam.html?cmd=detail&id=461',\n",
       " 'https://exam.bigschool.vn/exam.html?cmd=detail&id=89429',\n",
       " 'https://exam.bigschool.vn/exam.html?cmd=detail&id=96639',\n",
       " 'https://exam.bigschool.vn/exam.html?cmd=detail&id=92059',\n",
       " 'https://exam.bigschool.vn/exam.html?cmd=detail&id=93635',\n",
       " 'https://exam.bigschool.vn/exam.html?cmd=detail&id=20263',\n",
       " 'https://exam.bigschool.vn/exam.html?cmd=detail&id=92035',\n",
       " 'https://exam.bigschool.vn/exam.html?cmd=detail&id=96695',\n",
       " 'https://exam.bigschool.vn/exam.html?cmd=detail&id=103683',\n",
       " 'https://exam.bigschool.vn/exam.html?cmd=detail&id=97172',\n",
       " 'https://exam.bigschool.vn/exam.html?cmd=detail&id=96689',\n",
       " 'https://exam.bigschool.vn/exam.html?cmd=detail&id=96498']"
      ]
     },
     "execution_count": 23,
     "metadata": {},
     "output_type": "execute_result"
    }
   ],
   "source": [
    "all_links"
   ]
  },
  {
   "cell_type": "code",
   "execution_count": null,
   "metadata": {},
   "outputs": [],
   "source": []
  }
 ],
 "metadata": {
  "kernelspec": {
   "display_name": "Python 3",
   "language": "python",
   "name": "python3"
  },
  "language_info": {
   "codemirror_mode": {
    "name": "ipython",
    "version": 3
   },
   "file_extension": ".py",
   "mimetype": "text/x-python",
   "name": "python",
   "nbconvert_exporter": "python",
   "pygments_lexer": "ipython3",
   "version": "3.6.6"
  }
 },
 "nbformat": 4,
 "nbformat_minor": 2
}
